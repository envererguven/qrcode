import pyqrcode
import png
q=pyqrcode.create("test")
q.png("q.png", scale=5)
